{
 "cells": [
  {
   "cell_type": "markdown",
   "metadata": {},
   "source": [
    "<h1>Ising Model 2D Prediction of Phases Using Machine Learning</h1>"
   ]
  },
  {
   "cell_type": "markdown",
   "metadata": {},
   "source": [
    "<p>This is a notebook created for the Machine Learning option in Autumn 2019 Semestre in CY Université. The data was shared in the course folder. </p>"
   ]
  },
  {
   "cell_type": "markdown",
   "metadata": {},
   "source": [
    "<p>We will consider the Ising Model in 2D with the following properties and parameters and we will try to create models to predict the configuration phases: \n",
    "    <ul>\n",
    "        <li>40x40 Square Lattice</li>\n",
    "        <li>Ising Interaction $$J = -1.0$$</li>\n",
    "        <li>Temperature is equally partitioned in the following interval $$ T \\in \\{0.25, 0.50, \\dots 4.0\\}$$</li>\n",
    "        <li>The assigned labels are: 0 if disordered, 1 if ordered</li>\n",
    "        <li>We will also have a critical region. Onsager's result is $$T_C \\approx 2.26$$ Then we expect three types of states: $$T<2.0, \\text{ordered}$$\n",
    "                 $$2.0<T<2.5, \\text{critical region}$$\n",
    "                 $$T>2.5 \\text{disordered}$$</li>\n",
    "    </ul>\n",
    "</p>"
   ]
  },
  {
   "cell_type": "markdown",
   "metadata": {},
   "source": [
    "<h2>Loading the Data</h2>"
   ]
  },
  {
   "cell_type": "markdown",
   "metadata": {},
   "source": [
    "<p>We will first start by importing necessary packages. We will use Keras/TensorFlow for our training. Pickle for loading the data and matplotlib for visualizations.</p>"
   ]
  },
  {
   "cell_type": "code",
   "execution_count": 1,
   "metadata": {
    "scrolled": true
   },
   "outputs": [
    {
     "name": "stderr",
     "output_type": "stream",
     "text": [
      "Using TensorFlow backend.\n"
     ]
    }
   ],
   "source": [
    "import pickle as pk\n",
    "import numpy as np\n",
    "\n",
    "import matplotlib.pyplot as plt\n",
    "import matplotlib.gridspec as gridspec\n",
    "\n",
    "from keras import models \n",
    "from keras.models import Model\n",
    "\n",
    "from keras import layers\n",
    "from keras.layers import Conv2D, MaxPooling2D, BatchNormalization, Dense, Dropout, Flatten, GlobalAveragePooling2D\n",
    "from keras.utils import to_categorical \n",
    "from keras.optimizers import RMSprop, Adam\n",
    "from keras.applications.resnet50 import ResNet50\n",
    "from keras.preprocessing.image import image\n",
    "\n",
    "from sklearn.model_selection import train_test_split\n",
    "from keras.wrappers.scikit_learn import KerasClassifier\n",
    "from sklearn.model_selection import GridSearchCV\n",
    "from sklearn.datasets import make_classification\n",
    "from sklearn.metrics import confusion_matrix\n",
    "from sklearn.utils import shuffle\n"
   ]
  },
  {
   "cell_type": "markdown",
   "metadata": {},
   "source": [
    "<p>Now we can create the files with the data and the labels of our dataset. We read it using pickle.</p>"
   ]
  },
  {
   "cell_type": "code",
   "execution_count": 2,
   "metadata": {},
   "outputs": [],
   "source": [
    "# We start by correctly inputing the file names of the data\n",
    "file_name_data = \"Ising2DFM_reSample_L40_T=All.pkl\"\n",
    "file_name_labels = \"Ising2DFM_reSample_L40_T=All_labels.pkl\"\n",
    "\n",
    "# We open the files\n",
    "file_data = open(file_name_data, \"rb\") # rb stands for \"read, binary\"\n",
    "file_labels = open(file_name_labels, \"rb\")\n",
    "\n",
    "# We load the data from the files\n",
    "data = pk.load(file_data)\n",
    "labels = pk.load(file_labels)\n",
    "\n",
    "# Data is here packed uint8 elements meaning that it needs unpacking.\n",
    "# We can think of it as decompressing a compressed file. \n",
    "data = np.unpackbits(data).reshape(-1,1600)\n",
    "data = data.astype(\"int\") # Making sure the type is integer"
   ]
  },
  {
   "cell_type": "markdown",
   "metadata": {},
   "source": [
    "<p>Let us see how the data looks like.</p>"
   ]
  },
  {
   "cell_type": "code",
   "execution_count": 3,
   "metadata": {
    "scrolled": true
   },
   "outputs": [
    {
     "name": "stdout",
     "output_type": "stream",
     "text": [
      "Data is as follows: \n",
      "\n",
      "[[0 0 0 ... 0 0 0]\n",
      " [1 1 1 ... 1 1 1]\n",
      " [1 1 1 ... 1 1 1]\n",
      " ...\n",
      " [1 1 1 ... 1 1 0]\n",
      " [1 1 1 ... 1 0 0]\n",
      " [1 1 1 ... 1 0 0]]\n",
      "The shape of the data: \n",
      "(160000, 1600)\n",
      "\n",
      "\n",
      "Labels are as follows: \n",
      "\n",
      "[1 1 1 ... 0 0 0]\n",
      "The shape of labels\n",
      "(160000,)\n"
     ]
    }
   ],
   "source": [
    "print(\"Data is as follows: \\n\")\n",
    "print(data)\n",
    "print(\"The shape of the data: \")\n",
    "print(data.shape)\n",
    "\n",
    "\n",
    "print(\"\\n\")\n",
    "print(\"Labels are as follows: \\n\")\n",
    "print(labels)\n",
    "print(\"The shape of labels\")\n",
    "print(labels.shape)"
   ]
  },
  {
   "cell_type": "markdown",
   "metadata": {},
   "source": [
    "<h4>The data is succesfully loaded. Now we need to divide the whole data properly and construct the training and test sets. We will have three types of Ising configurations: ordered, critical and disordered; distinguished according to their temperatures. Similarly we have the same division for the labels.</h4>"
   ]
  },
  {
   "cell_type": "markdown",
   "metadata": {},
   "source": [
    "<p> Note that the critical temperature for this system is known to be: $$T_c \\approx 2.26$$</p>"
   ]
  },
  {
   "cell_type": "code",
   "execution_count": 4,
   "metadata": {},
   "outputs": [],
   "source": [
    "# We divide the data directly\n",
    "data_ordered = data[:70000,:]\n",
    "labels_ordered = labels[:70000]\n",
    "\n",
    "data_critical = data[70000:100000,:]\n",
    "labels_critical = labels[70000:100000]\n",
    "\n",
    "data_disordered = data[100000:,:]\n",
    "labels_disordered = labels[100000:]"
   ]
  },
  {
   "cell_type": "markdown",
   "metadata": {},
   "source": [
    "<h3>We will have 4 labels: ordered, disordered, critical-ordered, critical-disordered. The last two are labeled in the given data as ordered or disordered. However we also take them to be in the critical region. Therefore we want our model to predict not only whether it is ordered or disordered, but also whether it is critical or not. </h3>"
   ]
  },
  {
   "cell_type": "markdown",
   "metadata": {},
   "source": [
    "<p>We switch the labels for critical region to 2 and 3 so that critical-ordered is labeled as 2, critical disordered is labeled as 3.</p>"
   ]
  },
  {
   "cell_type": "code",
   "execution_count": 5,
   "metadata": {},
   "outputs": [],
   "source": [
    "# Labels are changed to new values for critical region\n",
    "labels_critical[np.where(labels_critical==0)] = 3\n",
    "labels_critical[np.where(labels_critical==1)] = 2"
   ]
  },
  {
   "cell_type": "markdown",
   "metadata": {},
   "source": [
    "<h4>Below we concatenate all these data into one variable. We do the same for the labels. Then we use the train_test_split() method to shuffle and create our train and test sets.</h4>"
   ]
  },
  {
   "cell_type": "code",
   "execution_count": 6,
   "metadata": {},
   "outputs": [
    {
     "name": "stdout",
     "output_type": "stream",
     "text": [
      "Number of Training Samples:  (96000, 1600)\n",
      "Number of Test Samples:  (64000, 1600)\n"
     ]
    }
   ],
   "source": [
    "# Add all the data together\n",
    "data = np.concatenate((data_critical,data_ordered, data_disordered)) \n",
    "labels = np.concatenate((labels_critical,labels_ordered, labels_disordered))\n",
    "\n",
    "# Split the data into train and test and shuffle\n",
    "data_train, data_test, labels_train, labels_test = train_test_split(data,labels, train_size = 0.60)\n",
    "\n",
    "print(\"Number of Training Samples: \",data_train.shape)\n",
    "print(\"Number of Test Samples: \",data_test.shape)"
   ]
  },
  {
   "cell_type": "markdown",
   "metadata": {},
   "source": [
    "<h3>We have the number of columns as 1600. This is 40x40 as it is the dimensions of the Ising lattices that we have as our data.</h3>"
   ]
  },
  {
   "cell_type": "markdown",
   "metadata": {},
   "source": [
    "<h3>Let us visualize our data by taking a sample from each regions: ordered, disordered and critical regions.</h3>"
   ]
  },
  {
   "cell_type": "code",
   "execution_count": 7,
   "metadata": {},
   "outputs": [
    {
     "data": {
      "image/png": "[encoded data removed]",
      "text/plain": [
       "<Figure size 720x720 with 9 Axes>"
      ]
     },
     "metadata": {
      "needs_background": "light"
     },
     "output_type": "display_data"
    }
   ],
   "source": [
    "ising_sample_ordered = data_ordered[3,:].reshape(-1,40)\n",
    "ising_sample_ordered_2 = data_ordered[37,:].reshape(-1,40)\n",
    "ising_sample_ordered_3 = data_ordered[31,:].reshape(-1,40)\n",
    "\n",
    "ising_sample_disordered = data_disordered[3,:].reshape(-1,40)\n",
    "ising_sample_disordered_2 = data_disordered[37,:].reshape(-1,40)\n",
    "ising_sample_disordered_3 = data_disordered[31,:].reshape(-1,40)\n",
    "\n",
    "ising_sample_critical = data_critical[3,:].reshape(-1,40)\n",
    "ising_sample_critical_2 = data_critical[37,:].reshape(-1,40)\n",
    "ising_sample_critical_3 = data_critical[31,:].reshape(-1,40)\n",
    "\n",
    "\n",
    "\n",
    "ising_visuals = np.array([ising_sample_ordered, ising_sample_critical, ising_sample_disordered,\n",
    "                          ising_sample_ordered_2, ising_sample_critical_2, ising_sample_disordered_2,\n",
    "                          ising_sample_ordered_3, ising_sample_critical_3, ising_sample_disordered_3]).reshape(3,3,40,40)\n",
    "\n",
    "\n",
    "anno_opts = dict(xy=(0.5, 0.5), xycoords='axes fraction',\n",
    "                 va='center', ha='center')\n",
    "\n",
    "\n",
    "gs = gridspec.GridSpec(3, 3,)\n",
    "plt.figure(figsize=(10, 10))\n",
    "\n",
    "for i in np.arange(3):\n",
    "    for j in np.arange(3):\n",
    "        ax = plt.subplot(gs[i,j])\n",
    "        plt.imshow(ising_visuals[i,j])\n"
   ]
  },
  {
   "cell_type": "markdown",
   "metadata": {},
   "source": [
    "<h3>Above we can see the ordered, critical and disordered samples resptectively.</h3>"
   ]
  },
  {
   "cell_type": "markdown",
   "metadata": {},
   "source": [
    "<h2>Training a Deep Neural Network</h2>"
   ]
  },
  {
   "cell_type": "markdown",
   "metadata": {},
   "source": [
    "<p>In this section we will create a deep neural network (DNN) architecture to try to make predictions and we will see how well it will do. </p>"
   ]
  },
  {
   "cell_type": "markdown",
   "metadata": {},
   "source": [
    "<h3>We create our model in Keras.</h3>"
   ]
  },
  {
   "cell_type": "code",
   "execution_count": 8,
   "metadata": {},
   "outputs": [],
   "source": [
    "model_dnn = models.Sequential() # Saying that the model is a sequential model\n",
    "model_dnn.add(layers.Dense(75, activation='relu', input_shape=(1600,)))\n",
    "model_dnn.add(layers.Dense(75, activation='relu'))\n",
    "model_dnn.add(layers.Dense(4, activation='softmax')) "
   ]
  },
  {
   "cell_type": "markdown",
   "metadata": {},
   "source": [
    "<h4>Let's see the summary of the model.</h4>"
   ]
  },
  {
   "cell_type": "code",
   "execution_count": 9,
   "metadata": {},
   "outputs": [
    {
     "name": "stdout",
     "output_type": "stream",
     "text": [
      "Model: \"sequential_1\"\n",
      "_________________________________________________________________\n",
      "Layer (type)                 Output Shape              Param #   \n",
      "=================================================================\n",
      "dense_1 (Dense)              (None, 75)                120075    \n",
      "_________________________________________________________________\n",
      "dense_2 (Dense)              (None, 75)                5700      \n",
      "_________________________________________________________________\n",
      "dense_3 (Dense)              (None, 4)                 304       \n",
      "=================================================================\n",
      "Total params: 126,079\n",
      "Trainable params: 126,079\n",
      "Non-trainable params: 0\n",
      "_________________________________________________________________\n"
     ]
    }
   ],
   "source": [
    "model_dnn.summary()"
   ]
  },
  {
   "cell_type": "markdown",
   "metadata": {},
   "source": [
    "<h3>Specify the optimizer and loss function measure.</h3>"
   ]
  },
  {
   "cell_type": "markdown",
   "metadata": {},
   "source": [
    "<p>In this part it is worth pointing out that the learning rate needed to be manipulated by trial-error in order to avoid fitting issues.</p>"
   ]
  },
  {
   "cell_type": "code",
   "execution_count": 10,
   "metadata": {},
   "outputs": [],
   "source": [
    "model_dnn.compile(optimizer=RMSprop(learning_rate=0.00001), \n",
    "    loss='categorical_crossentropy', \n",
    "    metrics=['accuracy'])"
   ]
  },
  {
   "cell_type": "markdown",
   "metadata": {},
   "source": [
    "<h4>We convert our integer labels to unit vector form.</h4>"
   ]
  },
  {
   "cell_type": "code",
   "execution_count": 11,
   "metadata": {},
   "outputs": [],
   "source": [
    "labels_train = to_categorical(labels_train) \n",
    "labels_test = to_categorical(labels_test)"
   ]
  },
  {
   "cell_type": "markdown",
   "metadata": {},
   "source": [
    "<h3>We train our model for 20 epochs.</h3>"
   ]
  },
  {
   "cell_type": "code",
   "execution_count": 12,
   "metadata": {
    "scrolled": true
   },
   "outputs": [
    {
     "name": "stdout",
     "output_type": "stream",
     "text": [
      "Train on 96000 samples, validate on 64000 samples\n",
      "Epoch 1/20\n",
      "96000/96000 [==============================] - 9s 95us/step - loss: 0.9311 - accuracy: 0.7063 - val_loss: 0.8534 - val_accuracy: 0.7377\n",
      "Epoch 2/20\n",
      "96000/96000 [==============================] - 7s 75us/step - loss: 0.8005 - accuracy: 0.7676 - val_loss: 0.7519 - val_accuracy: 0.7895\n",
      "Epoch 3/20\n",
      "96000/96000 [==============================] - 7s 74us/step - loss: 0.6949 - accuracy: 0.8042 - val_loss: 0.6452 - val_accuracy: 0.8137\n",
      "Epoch 4/20\n",
      "96000/96000 [==============================] - 7s 74us/step - loss: 0.5882 - accuracy: 0.8194 - val_loss: 0.5448 - val_accuracy: 0.8213\n",
      "Epoch 5/20\n",
      "96000/96000 [==============================] - 7s 74us/step - loss: 0.4981 - accuracy: 0.8322 - val_loss: 0.4700 - val_accuracy: 0.8394\n",
      "Epoch 6/20\n",
      "96000/96000 [==============================] - 7s 75us/step - loss: 0.4348 - accuracy: 0.8500 - val_loss: 0.4195 - val_accuracy: 0.8580\n",
      "Epoch 7/20\n",
      "96000/96000 [==============================] - 7s 75us/step - loss: 0.3906 - accuracy: 0.8686 - val_loss: 0.3834 - val_accuracy: 0.8761\n",
      "Epoch 8/20\n",
      "96000/96000 [==============================] - 7s 74us/step - loss: 0.3564 - accuracy: 0.8827 - val_loss: 0.3579 - val_accuracy: 0.8861\n",
      "Epoch 9/20\n",
      "96000/96000 [==============================] - 7s 75us/step - loss: 0.3288 - accuracy: 0.8924 - val_loss: 0.3323 - val_accuracy: 0.8945\n",
      "Epoch 10/20\n",
      "96000/96000 [==============================] - 7s 75us/step - loss: 0.3055 - accuracy: 0.8996 - val_loss: 0.3165 - val_accuracy: 0.8988\n",
      "Epoch 11/20\n",
      "96000/96000 [==============================] - 7s 74us/step - loss: 0.2855 - accuracy: 0.9050 - val_loss: 0.2938 - val_accuracy: 0.9011\n",
      "Epoch 12/20\n",
      "96000/96000 [==============================] - 7s 75us/step - loss: 0.2676 - accuracy: 0.9101 - val_loss: 0.2815 - val_accuracy: 0.9016\n",
      "Epoch 13/20\n",
      "96000/96000 [==============================] - 7s 74us/step - loss: 0.2521 - accuracy: 0.9139 - val_loss: 0.2669 - val_accuracy: 0.9072\n",
      "Epoch 14/20\n",
      "96000/96000 [==============================] - 8s 86us/step - loss: 0.2385 - accuracy: 0.9177 - val_loss: 0.2569 - val_accuracy: 0.9105\n",
      "Epoch 15/20\n",
      "96000/96000 [==============================] - 8s 82us/step - loss: 0.2262 - accuracy: 0.9208 - val_loss: 0.2443 - val_accuracy: 0.9141\n",
      "Epoch 16/20\n",
      "96000/96000 [==============================] - 8s 78us/step - loss: 0.2149 - accuracy: 0.9245 - val_loss: 0.2358 - val_accuracy: 0.9158\n",
      "Epoch 17/20\n",
      "96000/96000 [==============================] - 7s 77us/step - loss: 0.2050 - accuracy: 0.9280 - val_loss: 0.2307 - val_accuracy: 0.9188\n",
      "Epoch 18/20\n",
      "96000/96000 [==============================] - 7s 77us/step - loss: 0.1957 - accuracy: 0.9307 - val_loss: 0.2216 - val_accuracy: 0.9191\n",
      "Epoch 19/20\n",
      "96000/96000 [==============================] - 7s 75us/step - loss: 0.1877 - accuracy: 0.9335 - val_loss: 0.2152 - val_accuracy: 0.9216\n",
      "Epoch 20/20\n",
      "96000/96000 [==============================] - 7s 76us/step - loss: 0.1801 - accuracy: 0.9362 - val_loss: 0.2122 - val_accuracy: 0.9204\n"
     ]
    }
   ],
   "source": [
    "train_dnn = model_dnn.fit(data_train, labels_train, epochs=20,validation_data = (data_test,labels_test))"
   ]
  },
  {
   "cell_type": "markdown",
   "metadata": {},
   "source": [
    "<h3>Let us take a look at the accuracy when we test it on the test set</h3>"
   ]
  },
  {
   "cell_type": "code",
   "execution_count": 13,
   "metadata": {},
   "outputs": [
    {
     "data": {
      "text/plain": [
       "dict_keys(['val_loss', 'val_accuracy', 'loss', 'accuracy'])"
      ]
     },
     "execution_count": 13,
     "metadata": {},
     "output_type": "execute_result"
    }
   ],
   "source": [
    "train_dnn.history.keys()"
   ]
  },
  {
   "cell_type": "code",
   "execution_count": 14,
   "metadata": {},
   "outputs": [
    {
     "name": "stdout",
     "output_type": "stream",
     "text": [
      "64000/64000 [==============================] - 1s 23us/step\n"
     ]
    }
   ],
   "source": [
    "test_loss, test_acc = model_dnn.evaluate(data_test,labels_test)"
   ]
  },
  {
   "cell_type": "code",
   "execution_count": 15,
   "metadata": {},
   "outputs": [
    {
     "name": "stdout",
     "output_type": "stream",
     "text": [
      "The accuracy of the model on the test set is  92.03749895095825 %\n"
     ]
    }
   ],
   "source": [
    "print(\"The accuracy of the model on the test set is \",100*test_acc, \"%\")"
   ]
  },
  {
   "cell_type": "markdown",
   "metadata": {},
   "source": [
    "<h3>We will record the predictions on the test set.</h3>"
   ]
  },
  {
   "cell_type": "code",
   "execution_count": 16,
   "metadata": {
    "scrolled": true
   },
   "outputs": [
    {
     "name": "stdout",
     "output_type": "stream",
     "text": [
      "Generating predictions... \n",
      "(64000,)\n"
     ]
    }
   ],
   "source": [
    "print(\"Generating predictions... \")\n",
    "predictions_dnn = model_dnn.predict_classes(data_test)\n",
    "print(predictions_dnn.shape)"
   ]
  },
  {
   "cell_type": "code",
   "execution_count": 17,
   "metadata": {},
   "outputs": [
    {
     "data": {
      "text/plain": [
       "(64000, 4)"
      ]
     },
     "execution_count": 17,
     "metadata": {},
     "output_type": "execute_result"
    }
   ],
   "source": [
    "labels_test.shape"
   ]
  },
  {
   "cell_type": "markdown",
   "metadata": {},
   "source": [
    "<h4>Remark: Predictions are going to be floating points since our outpur will be a softmax giving the possiblities. Therefore we will choose the highest possibility. We round them and get the best prediction this way.</h4>"
   ]
  },
  {
   "cell_type": "code",
   "execution_count": 18,
   "metadata": {},
   "outputs": [],
   "source": [
    "rounded_labels_test =np.argmax(labels_test, axis=1)"
   ]
  },
  {
   "cell_type": "code",
   "execution_count": 19,
   "metadata": {},
   "outputs": [
    {
     "data": {
      "text/plain": [
       "(64000,)"
      ]
     },
     "execution_count": 19,
     "metadata": {},
     "output_type": "execute_result"
    }
   ],
   "source": [
    "rounded_labels_test.shape"
   ]
  },
  {
   "cell_type": "markdown",
   "metadata": {},
   "source": [
    "<h3>We construct the confusion matrix from the predictions.</h3>"
   ]
  },
  {
   "cell_type": "code",
   "execution_count": 20,
   "metadata": {},
   "outputs": [],
   "source": [
    "confusion_matrix_dnn = confusion_matrix(rounded_labels_test, predictions_dnn)"
   ]
  },
  {
   "cell_type": "markdown",
   "metadata": {},
   "source": [
    "<h3>Below is a method to nicely visualize the confusion matrix.</h3>"
   ]
  },
  {
   "cell_type": "code",
   "execution_count": 21,
   "metadata": {},
   "outputs": [],
   "source": [
    "def plot_confusion_matrix(confusion_matrix):\n",
    "    plt.imshow(confusion_matrix, cmap=plt.cm.Blues)\n",
    "    plt.xlabel(\"Predicted labels\")\n",
    "    plt.ylabel(\"True labels\")\n",
    "    plt.xticks([], [])\n",
    "    plt.yticks([], [])\n",
    "    plt.title('Confusion Matrix ')\n",
    "    plt.colorbar()\n",
    "    plt.show()"
   ]
  },
  {
   "cell_type": "markdown",
   "metadata": {},
   "source": [
    "<h3>We can see that our model predicts really well when we have disordered and ordered configurations. Critical region does not have as many data points. This is why it looks lighter in the matrix. </h3>"
   ]
  },
  {
   "cell_type": "code",
   "execution_count": 22,
   "metadata": {},
   "outputs": [
    {
     "data": {
      "image/png": "[encoded data removed]",
      "text/plain": [
       "<Figure size 432x288 with 2 Axes>"
      ]
     },
     "metadata": {
      "needs_background": "light"
     },
     "output_type": "display_data"
    }
   ],
   "source": [
    "plot_confusion_matrix(confusion_matrix_dnn)"
   ]
  },
  {
   "cell_type": "markdown",
   "metadata": {},
   "source": [
    "<h4>The values of the confusion matrix below shows that critical region predictions are not as good as non-critical region predictions.</h4>"
   ]
  },
  {
   "cell_type": "code",
   "execution_count": 23,
   "metadata": {},
   "outputs": [
    {
     "data": {
      "text/plain": [
       "array([[23558,     0,    41,   360],\n",
       "       [    0, 27732,   247,     0],\n",
       "       [  162,  1060,  6618,   195],\n",
       "       [ 2839,     0,   192,   996]])"
      ]
     },
     "execution_count": 23,
     "metadata": {},
     "output_type": "execute_result"
    }
   ],
   "source": [
    "confusion_matrix_dnn"
   ]
  },
  {
   "cell_type": "markdown",
   "metadata": {},
   "source": [
    "<h3>Now we define the plot functions for loss and accuracy so that we can compare the test and training datasets' results and conclude if our model is working well.</h3>"
   ]
  },
  {
   "cell_type": "code",
   "execution_count": 24,
   "metadata": {},
   "outputs": [],
   "source": [
    "def loss_function(mdl):\n",
    "    plt.plot(mdl.history['loss'])\n",
    "    plt.plot(mdl.history['val_loss'])\n",
    "    plt.title(\"Model Loss\")\n",
    "    plt.xlabel('Epochs')\n",
    "    plt.ylabel('Loss')\n",
    "    plt.legend(['Train', 'Test'])\n",
    "    plt.show()\n",
    "def accuracy(mdl):\n",
    "    plt.plot(mdl.history['accuracy'])\n",
    "    plt.plot(mdl.history['val_accuracy'])\n",
    "    plt.title('Model Accuracy')\n",
    "    plt.xlabel('Epochs')\n",
    "    plt.ylabel('Accuracy')\n",
    "    plt.legend(['Train','Test'])\n",
    "    plt.show()"
   ]
  },
  {
   "cell_type": "markdown",
   "metadata": {},
   "source": [
    "<h3>Below we can see that our model seems to be working well in terms of learning.</h3>\n",
    "<p>However, in order to achieve this, I have manipulated the learning rate of the optimizer since previous results indicated that it was too high. This indication was done by observing the loss graph. Also I had to use the trial-error method to figure out a DNN architecture compatible for our problem.<p>\n",
    "<p>On the other hand, our confusion matrix still indicates that critical region predictions are not as good. This may simply be because of the fact that we do not have as much data in the critical region as we do in the other regions.</p>"
   ]
  },
  {
   "cell_type": "code",
   "execution_count": 25,
   "metadata": {},
   "outputs": [
    {
     "data": {
      "image/png": "[encoded data removed]",
      "text/plain": [
       "<Figure size 432x288 with 1 Axes>"
      ]
     },
     "metadata": {
      "needs_background": "light"
     },
     "output_type": "display_data"
    },
    {
     "data": {
      "image/png": "[encoded data removed]",
      "text/plain": [
       "<Figure size 432x288 with 1 Axes>"
      ]
     },
     "metadata": {
      "needs_background": "light"
     },
     "output_type": "display_data"
    }
   ],
   "source": [
    "loss_function(train_dnn)\n",
    "accuracy(train_dnn)"
   ]
  },
  {
   "cell_type": "markdown",
   "metadata": {},
   "source": [
    "<h2>Training a Convolutional Neural Network (CNN)</h2>"
   ]
  },
  {
   "cell_type": "markdown",
   "metadata": {},
   "source": [
    "<p>Since this is an image-like prediction problem, we can also approach it with the convolutional neural network model. We start building our CNN. CNN architecture is a little more complex than DNN. However it is worth noting that though it looks complicated, it is almost considered to be a typical structure for these types of problems.</p>"
   ]
  },
  {
   "cell_type": "markdown",
   "metadata": {},
   "source": [
    "<h4>CNN's require the input to be in the following form:</h4>"
   ]
  },
  {
   "cell_type": "code",
   "execution_count": 26,
   "metadata": {},
   "outputs": [],
   "source": [
    "data_train = data_train.reshape(data_train.shape[0],1,40,40)\n",
    "data_test = data_test.reshape(data_test.shape[0],1,40,40)\n",
    "input_shape = (1,40,40)\n",
    "\n",
    "data_train, labels_train = shuffle(data_train, labels_train)\n",
    "data_test, labels_test = shuffle(data_test, labels_test)"
   ]
  },
  {
   "cell_type": "markdown",
   "metadata": {},
   "source": [
    "<h4>We create our CNN model.</h4>"
   ]
  },
  {
   "cell_type": "code",
   "execution_count": 27,
   "metadata": {},
   "outputs": [],
   "source": [
    "# As usual we start by creating a sequential model\n",
    "model_cnn = models.Sequential()\n",
    "\n",
    "# We add the convolutional layer\n",
    "model_cnn.add(Conv2D(filters=32, kernel_size=(3, 3), activation='relu', strides=1, padding='same', data_format='channels_last',input_shape=input_shape))\n",
    "# The batch normalization: helping to generalize the training\n",
    "model_cnn.add(BatchNormalization())\n",
    "# Another convolutional layer\n",
    "model_cnn.add(Conv2D(filters=32, kernel_size=(3, 3), activation='relu', strides=1, padding='same', data_format='channels_last'))\n",
    "# Batch normalization\n",
    "model_cnn.add(BatchNormalization())\n",
    "# Pooling for reducing overfitting\n",
    "model_cnn.add(MaxPooling2D(pool_size=(2, 2), strides=2, padding='same' ))\n",
    "# We drop some neurons that will again help avoid overfitting\n",
    "model_cnn.add(Dropout(0.25))\n",
    "\n",
    "# We will add another series of the above with greater number of filters\n",
    "model_cnn.add(Conv2D(filters=64, kernel_size=(3, 3), activation='relu', strides=1, padding='same', data_format='channels_last'))\n",
    "model_cnn.add(BatchNormalization())\n",
    "model_cnn.add(Conv2D(filters=64, kernel_size=(3, 3), strides=1, padding='same', activation='relu', data_format='channels_last'))\n",
    "model_cnn.add(BatchNormalization())\n",
    "model_cnn.add(MaxPooling2D(pool_size=(2, 2), padding='same', strides=2))\n",
    "model_cnn.add(Dropout(0.25))\n",
    "\n",
    "# Flatten will convert our results to 1D type\n",
    "model_cnn.add(Flatten())\n",
    "model_cnn.add(Dense(512, activation='relu'))\n",
    "model_cnn.add(BatchNormalization())\n",
    "model_cnn.add(Dropout(0.25))\n",
    "model_cnn.add(Dense(1024, activation='relu'))\n",
    "model_cnn.add(BatchNormalization())\n",
    "model_cnn.add(Dropout(0.5))\n",
    "# We have the final output layer\n",
    "model_cnn.add(Dense(4, activation='softmax'))"
   ]
  },
  {
   "cell_type": "markdown",
   "metadata": {},
   "source": [
    "<h3>We need the optimizer and other compile options selected.</h3>"
   ]
  },
  {
   "cell_type": "code",
   "execution_count": 28,
   "metadata": {},
   "outputs": [],
   "source": [
    "model_cnn.compile(optimizer=RMSprop(learning_rate= 0.00001), loss=\"categorical_crossentropy\", metrics=[\"accuracy\"])"
   ]
  },
  {
   "cell_type": "markdown",
   "metadata": {},
   "source": [
    "<h3>At this point it is a complex architecture. Thankfully, Keras has a model summary method.</h3>"
   ]
  },
  {
   "cell_type": "code",
   "execution_count": 29,
   "metadata": {},
   "outputs": [
    {
     "name": "stdout",
     "output_type": "stream",
     "text": [
      "Model: \"sequential_2\"\n",
      "_________________________________________________________________\n",
      "Layer (type)                 Output Shape              Param #   \n",
      "=================================================================\n",
      "conv2d_1 (Conv2D)            (None, 1, 40, 32)         11552     \n",
      "_________________________________________________________________\n",
      "batch_normalization_1 (Batch (None, 1, 40, 32)         128       \n",
      "_________________________________________________________________\n",
      "conv2d_2 (Conv2D)            (None, 1, 40, 32)         9248      \n",
      "_________________________________________________________________\n",
      "batch_normalization_2 (Batch (None, 1, 40, 32)         128       \n",
      "_________________________________________________________________\n",
      "max_pooling2d_1 (MaxPooling2 (None, 1, 20, 32)         0         \n",
      "_________________________________________________________________\n",
      "dropout_1 (Dropout)          (None, 1, 20, 32)         0         \n",
      "_________________________________________________________________\n",
      "conv2d_3 (Conv2D)            (None, 1, 20, 64)         18496     \n",
      "_________________________________________________________________\n",
      "batch_normalization_3 (Batch (None, 1, 20, 64)         256       \n",
      "_________________________________________________________________\n",
      "conv2d_4 (Conv2D)            (None, 1, 20, 64)         36928     \n",
      "_________________________________________________________________\n",
      "batch_normalization_4 (Batch (None, 1, 20, 64)         256       \n",
      "_________________________________________________________________\n",
      "max_pooling2d_2 (MaxPooling2 (None, 1, 10, 64)         0         \n",
      "_________________________________________________________________\n",
      "dropout_2 (Dropout)          (None, 1, 10, 64)         0         \n",
      "_________________________________________________________________\n",
      "flatten_1 (Flatten)          (None, 640)               0         \n",
      "_________________________________________________________________\n",
      "dense_4 (Dense)              (None, 512)               328192    \n",
      "_________________________________________________________________\n",
      "batch_normalization_5 (Batch (None, 512)               2048      \n",
      "_________________________________________________________________\n",
      "dropout_3 (Dropout)          (None, 512)               0         \n",
      "_________________________________________________________________\n",
      "dense_5 (Dense)              (None, 1024)              525312    \n",
      "_________________________________________________________________\n",
      "batch_normalization_6 (Batch (None, 1024)              4096      \n",
      "_________________________________________________________________\n",
      "dropout_4 (Dropout)          (None, 1024)              0         \n",
      "_________________________________________________________________\n",
      "dense_6 (Dense)              (None, 4)                 4100      \n",
      "=================================================================\n",
      "Total params: 940,740\n",
      "Trainable params: 937,284\n",
      "Non-trainable params: 3,456\n",
      "_________________________________________________________________\n"
     ]
    }
   ],
   "source": [
    "model_cnn.summary()"
   ]
  },
  {
   "cell_type": "markdown",
   "metadata": {},
   "source": [
    "<h3>Now we train the model. As this is a more complicated model than the DNN we trained, it may take awhile.</h3>"
   ]
  },
  {
   "cell_type": "code",
   "execution_count": 30,
   "metadata": {
    "scrolled": false
   },
   "outputs": [
    {
     "name": "stdout",
     "output_type": "stream",
     "text": [
      "Train on 96000 samples, validate on 64000 samples\n",
      "Epoch 1/20\n",
      "96000/96000 [==============================] - 77s 802us/step - loss: 0.6345 - accuracy: 0.8032 - val_loss: 0.4139 - val_accuracy: 0.8306\n",
      "Epoch 2/20\n",
      "96000/96000 [==============================] - 73s 764us/step - loss: 0.4444 - accuracy: 0.8600 - val_loss: 0.4124 - val_accuracy: 0.8128\n",
      "Epoch 3/20\n",
      "96000/96000 [==============================] - 71s 738us/step - loss: 0.3779 - accuracy: 0.8759 - val_loss: 0.4169 - val_accuracy: 0.7994\n",
      "Epoch 4/20\n",
      "96000/96000 [==============================] - 73s 755us/step - loss: 0.3335 - accuracy: 0.8870 - val_loss: 0.3491 - val_accuracy: 0.8333\n",
      "Epoch 5/20\n",
      "96000/96000 [==============================] - 73s 759us/step - loss: 0.3031 - accuracy: 0.8944 - val_loss: 0.3420 - val_accuracy: 0.8406\n",
      "Epoch 6/20\n",
      "96000/96000 [==============================] - 73s 764us/step - loss: 0.2787 - accuracy: 0.9000 - val_loss: 0.3220 - val_accuracy: 0.8490\n",
      "Epoch 7/20\n",
      "96000/96000 [==============================] - 71s 741us/step - loss: 0.2517 - accuracy: 0.9077 - val_loss: 0.3004 - val_accuracy: 0.8620\n",
      "Epoch 8/20\n",
      "96000/96000 [==============================] - 72s 745us/step - loss: 0.2328 - accuracy: 0.9129 - val_loss: 0.2824 - val_accuracy: 0.8740\n",
      "Epoch 9/20\n",
      "96000/96000 [==============================] - 72s 748us/step - loss: 0.2176 - accuracy: 0.9170 - val_loss: 0.2748 - val_accuracy: 0.8747\n",
      "Epoch 10/20\n",
      "96000/96000 [==============================] - 72s 746us/step - loss: 0.2069 - accuracy: 0.9216 - val_loss: 0.2361 - val_accuracy: 0.8913\n",
      "Epoch 11/20\n",
      "96000/96000 [==============================] - 73s 763us/step - loss: 0.1921 - accuracy: 0.9257 - val_loss: 0.2420 - val_accuracy: 0.8915\n",
      "Epoch 12/20\n",
      "96000/96000 [==============================] - 72s 753us/step - loss: 0.1787 - accuracy: 0.9305 - val_loss: 0.2212 - val_accuracy: 0.8998\n",
      "Epoch 13/20\n",
      "96000/96000 [==============================] - 72s 750us/step - loss: 0.1767 - accuracy: 0.9307 - val_loss: 0.1951 - val_accuracy: 0.9116\n",
      "Epoch 14/20\n",
      "96000/96000 [==============================] - 72s 754us/step - loss: 0.1693 - accuracy: 0.9324 - val_loss: 0.1745 - val_accuracy: 0.9219\n",
      "Epoch 15/20\n",
      "96000/96000 [==============================] - 72s 751us/step - loss: 0.1587 - accuracy: 0.9374 - val_loss: 0.1632 - val_accuracy: 0.9269\n",
      "Epoch 16/20\n",
      "96000/96000 [==============================] - 72s 751us/step - loss: 0.1542 - accuracy: 0.9386 - val_loss: 0.1671 - val_accuracy: 0.9255\n",
      "Epoch 17/20\n",
      "96000/96000 [==============================] - 72s 747us/step - loss: 0.1497 - accuracy: 0.9404 - val_loss: 0.1580 - val_accuracy: 0.9297\n",
      "Epoch 18/20\n",
      "96000/96000 [==============================] - 73s 765us/step - loss: 0.1462 - accuracy: 0.9428 - val_loss: 0.1531 - val_accuracy: 0.9327\n",
      "Epoch 19/20\n",
      "96000/96000 [==============================] - 72s 750us/step - loss: 0.1408 - accuracy: 0.9438 - val_loss: 0.1485 - val_accuracy: 0.9340\n",
      "Epoch 20/20\n",
      "96000/96000 [==============================] - 72s 752us/step - loss: 0.1377 - accuracy: 0.9449 - val_loss: 0.1361 - val_accuracy: 0.9386\n"
     ]
    }
   ],
   "source": [
    "train_cnn = model_cnn.fit(data_train, labels_train,\n",
    "          epochs=20,\n",
    "          verbose=1,\n",
    "          validation_data=(data_test, labels_test))"
   ]
  },
  {
   "cell_type": "code",
   "execution_count": 31,
   "metadata": {},
   "outputs": [
    {
     "data": {
      "text/plain": [
       "dict_keys(['val_loss', 'val_accuracy', 'loss', 'accuracy'])"
      ]
     },
     "execution_count": 31,
     "metadata": {},
     "output_type": "execute_result"
    }
   ],
   "source": [
    "train_cnn.history.keys()"
   ]
  },
  {
   "cell_type": "markdown",
   "metadata": {},
   "source": [
    "<h3>Now we can check how well the model is trained. Let us see the loss and accuracy vs. epochs.</h3>"
   ]
  },
  {
   "cell_type": "code",
   "execution_count": 32,
   "metadata": {},
   "outputs": [
    {
     "name": "stdout",
     "output_type": "stream",
     "text": [
      "64000/64000 [==============================] - 10s 150us/step\n"
     ]
    }
   ],
   "source": [
    "test_loss_cnn, test_acc_cnn = model_cnn.evaluate(data_test,labels_test)"
   ]
  },
  {
   "cell_type": "markdown",
   "metadata": {},
   "source": [
    "<h3>The model reaches around 95% accuracy each time I run it.</h3>"
   ]
  },
  {
   "cell_type": "code",
   "execution_count": 33,
   "metadata": {},
   "outputs": [
    {
     "name": "stdout",
     "output_type": "stream",
     "text": [
      "The accuracy of the model on the test set is  93.86093616485596 %\n"
     ]
    }
   ],
   "source": [
    "print(\"The accuracy of the model on the test set is \",100*test_acc_cnn, \"%\")"
   ]
  },
  {
   "cell_type": "markdown",
   "metadata": {},
   "source": [
    "<h4>Commenting on the graphs below: we can say that the test is roughly shaped\n",
    "    as if it is overlapping with the training results. In order to prevent fluctuations\n",
    "    we can try to optimize the hyperparameters as we did for the DNN case. However,\n",
    "    since CNN requires more computing power, the hyperparameter optimization would be \n",
    "    really hard on my laptop.</h4>"
   ]
  },
  {
   "cell_type": "code",
   "execution_count": 34,
   "metadata": {},
   "outputs": [
    {
     "data": {
      "image/png": "[encoded data removed]",
      "text/plain": [
       "<Figure size 432x288 with 1 Axes>"
      ]
     },
     "metadata": {
      "needs_background": "light"
     },
     "output_type": "display_data"
    },
    {
     "data": {
      "image/png": "[encoded data removed]",
      "text/plain": [
       "<Figure size 432x288 with 1 Axes>"
      ]
     },
     "metadata": {
      "needs_background": "light"
     },
     "output_type": "display_data"
    }
   ],
   "source": [
    "loss_function(train_cnn)\n",
    "accuracy(train_cnn)"
   ]
  },
  {
   "cell_type": "code",
   "execution_count": 35,
   "metadata": {},
   "outputs": [],
   "source": [
    "predictions_cnn = model_cnn.predict_classes(data_test)"
   ]
  },
  {
   "cell_type": "code",
   "execution_count": 36,
   "metadata": {},
   "outputs": [],
   "source": [
    "rounded_labels_test =np.argmax(labels_test, axis=1)"
   ]
  },
  {
   "cell_type": "code",
   "execution_count": 37,
   "metadata": {},
   "outputs": [],
   "source": [
    "confusion_matrix_cnn = confusion_matrix(rounded_labels_test, predictions_cnn)"
   ]
  },
  {
   "cell_type": "code",
   "execution_count": 38,
   "metadata": {},
   "outputs": [
    {
     "data": {
      "image/png": "[encoded data removed]",
      "text/plain": [
       "<Figure size 432x288 with 2 Axes>"
      ]
     },
     "metadata": {
      "needs_background": "light"
     },
     "output_type": "display_data"
    }
   ],
   "source": [
    "plot_confusion_matrix(confusion_matrix_cnn)"
   ]
  },
  {
   "cell_type": "markdown",
   "metadata": {},
   "source": [
    "<h3>We can see above and below that this result is better than the DNN result not only in terms of pure accuracy rate but also in terms of how good the model worked for the critical region labels.</h3>"
   ]
  },
  {
   "cell_type": "markdown",
   "metadata": {},
   "source": [
    "<p>Moreover, below values show that in the submatrix of bottom right quarter of the confusion matrix, which is the critical region part, we can see that between the critical regions there is not significant confusion. </p>"
   ]
  },
  {
   "cell_type": "code",
   "execution_count": 40,
   "metadata": {},
   "outputs": [
    {
     "data": {
      "text/plain": [
       "array([[21230,     0,     5,  2724],\n",
       "       [    0, 27896,    83,     0],\n",
       "       [    0,   538,  7483,    14],\n",
       "       [  205,     0,   360,  3462]])"
      ]
     },
     "execution_count": 40,
     "metadata": {},
     "output_type": "execute_result"
    }
   ],
   "source": [
    "confusion_matrix_cnn"
   ]
  },
  {
   "cell_type": "markdown",
   "metadata": {},
   "source": [
    "<h2>Final Remarks</h2>"
   ]
  },
  {
   "cell_type": "markdown",
   "metadata": {},
   "source": [
    "<p>Beyond all these, with more computation power we can have better hyperparameter optimization and therefore get better results. Some of the problems we have is the number of critical region data. Our. confusion matrices show that we need more critical region data since the significant amount of errors are in the critical region. On the other hand we may encounter a limit of success when recognizing the critical region configurations. Because of the randomness of the Metropolis approach to the Ising model, although we can know we are approximately in the critical region and that this conclusion quantitatively can be made, we may not end up recognizing this region with image recognition techniques with a 95+% success rate. </p>\n",
    "\n",
    "<p>Moreover, we can have the average magnetizations recorded along with the corresponding temperature. This way we can have a graph of magnetization vs. T in which we expect to see the critical temperature correctly around 2.26. However, as stated in the abstract of the course assignment, the main objective of this project is to classify different configurations of the Ising Model in 2D for a square lattice; therefore the critical temperature analysis is not present in this notebook. </p>"
   ]
  }
 ],
 "metadata": {
  "kernelspec": {
   "display_name": "Python 3",
   "language": "python",
   "name": "python3"
  },
  "language_info": {
   "codemirror_mode": {
    "name": "ipython",
    "version": 3
   },
   "file_extension": ".py",
   "mimetype": "text/x-python",
   "name": "python",
   "nbconvert_exporter": "python",
   "pygments_lexer": "ipython3",
   "version": "3.7.4"
  }
 },
 "nbformat": 4,
 "nbformat_minor": 2
}
